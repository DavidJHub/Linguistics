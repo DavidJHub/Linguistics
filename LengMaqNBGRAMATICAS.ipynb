{
 "cells": [
  {
   "cell_type": "code",
   "execution_count": 27,
   "metadata": {},
   "outputs": [],
   "source": [
    "import numpy as np\n",
    "import matplotlib.pyplot as plt\n",
    "import pandas as pd\n",
    "import scipy\n",
    "import sys\n",
    "import random"
   ]
  },
  {
   "cell_type": "markdown",
   "metadata": {},
   "source": [
    "# Gramáticas\n",
    "\n",
    "En esta sección quiero revisar cómo un automata lee reglas, escoge una regla aleatoriamente QUE SE PUEDA APLICAR y modifica el string de acuerdo a las reglas ya definidas. Con ello podemos encontrar además patrones de convergencia de los automatas "
   ]
  },
  {
   "cell_type": "code",
   "execution_count": 8,
   "metadata": {},
   "outputs": [],
   "source": [
    "myrules={\"rawimputs\":[\"X to aY\",\"Y to ZZ\",\"Z to bXa\",\"X to c\",\"Xa to cb\",\"Z to a\"]}\n",
    "rules=pd.DataFrame(myrules)\n",
    "#def Rules(inputs,outputs):\n",
    "    "
   ]
  },
  {
   "cell_type": "code",
   "execution_count": 12,
   "metadata": {},
   "outputs": [],
   "source": [
    "rules[[\"inputs\",\"outputs\"]]=rules[\"rawimputs\"].str.split(\" to \", expand=True)"
   ]
  },
  {
   "cell_type": "code",
   "execution_count": 13,
   "metadata": {},
   "outputs": [
    {
     "data": {
      "text/html": [
       "<div>\n",
       "<style scoped>\n",
       "    .dataframe tbody tr th:only-of-type {\n",
       "        vertical-align: middle;\n",
       "    }\n",
       "\n",
       "    .dataframe tbody tr th {\n",
       "        vertical-align: top;\n",
       "    }\n",
       "\n",
       "    .dataframe thead th {\n",
       "        text-align: right;\n",
       "    }\n",
       "</style>\n",
       "<table border=\"1\" class=\"dataframe\">\n",
       "  <thead>\n",
       "    <tr style=\"text-align: right;\">\n",
       "      <th></th>\n",
       "      <th>rawimputs</th>\n",
       "      <th>inputs</th>\n",
       "      <th>outputs</th>\n",
       "    </tr>\n",
       "  </thead>\n",
       "  <tbody>\n",
       "    <tr>\n",
       "      <th>0</th>\n",
       "      <td>X to aY</td>\n",
       "      <td>X</td>\n",
       "      <td>aY</td>\n",
       "    </tr>\n",
       "    <tr>\n",
       "      <th>1</th>\n",
       "      <td>Y to ZZ</td>\n",
       "      <td>Y</td>\n",
       "      <td>ZZ</td>\n",
       "    </tr>\n",
       "    <tr>\n",
       "      <th>2</th>\n",
       "      <td>Z to bXa</td>\n",
       "      <td>Z</td>\n",
       "      <td>bXa</td>\n",
       "    </tr>\n",
       "    <tr>\n",
       "      <th>3</th>\n",
       "      <td>X to c</td>\n",
       "      <td>X</td>\n",
       "      <td>c</td>\n",
       "    </tr>\n",
       "    <tr>\n",
       "      <th>4</th>\n",
       "      <td>Xa to cb</td>\n",
       "      <td>Xa</td>\n",
       "      <td>cb</td>\n",
       "    </tr>\n",
       "    <tr>\n",
       "      <th>5</th>\n",
       "      <td>Z to a</td>\n",
       "      <td>Z</td>\n",
       "      <td>a</td>\n",
       "    </tr>\n",
       "  </tbody>\n",
       "</table>\n",
       "</div>"
      ],
      "text/plain": [
       "  rawimputs inputs outputs\n",
       "0   X to aY      X      aY\n",
       "1   Y to ZZ      Y      ZZ\n",
       "2  Z to bXa      Z     bXa\n",
       "3    X to c      X       c\n",
       "4  Xa to cb     Xa      cb\n",
       "5    Z to a      Z       a"
      ]
     },
     "execution_count": 13,
     "metadata": {},
     "output_type": "execute_result"
    }
   ],
   "source": [
    "rules"
   ]
  },
  {
   "cell_type": "code",
   "execution_count": 142,
   "metadata": {},
   "outputs": [],
   "source": [
    "def enterRules():\n",
    "    executing=True\n",
    "    listing=[]\n",
    "    while executing:\n",
    "        newrule=input(\"Please enter a new rule in the format X to Y or enter 0 to finish \\t\")\n",
    "        if newrule != \"0\":\n",
    "            if \" to \" in newrule:\n",
    "                listing.append(newrule)\n",
    "            else:\n",
    "                print(\"Bad format, try again :)\")\n",
    "        else:\n",
    "            executing=False\n",
    "    dictionary={\"rawinputs\":listing}\n",
    "    rules=pd.DataFrame(dictionary)\n",
    "    rules[[\"inputs\",\"outputs\"]]=rules[\"rawinputs\"].str.split(\" to \", expand=True)\n",
    "    rules.drop(columns=[\"rawinputs\"],inplace=True)\n",
    "    return rules"
   ]
  },
  {
   "cell_type": "code",
   "execution_count": 152,
   "metadata": {},
   "outputs": [],
   "source": [
    "def ChainPath(rules, w,ITER):\n",
    "    seed=w\n",
    "    rules[\"input is in\"]=rules[\"inputs\"].apply(lambda x: x in seed)\n",
    "    filtering=rules[rules[\"input is in\"]==True]\n",
    "    if len(filtering[\"inputs\"])>0:\n",
    "        choose=random.choice(filtering.index.to_numpy())\n",
    "        print(\"Regla escogida: \"+ rules[\"inputs\"][choose] + \" ---> \" + rules[\"outputs\"][choose])\n",
    "        seed=seed.replace(rules[\"inputs\"][choose],rules[\"outputs\"][choose],1)\n",
    "        print(\"Para la cadena ingresada tenemos que cambio por: \" + seed + \" en la iteración \" + str(ITER))\n",
    "    else:\n",
    "        seed=seed\n",
    "        print(\"Para la cadena ingresada tenemos SE QUEDO IGUAL \" + seed + \" en la iteración \" + str(ITER))\n",
    "    return seed\n",
    "    "
   ]
  },
  {
   "cell_type": "code",
   "execution_count": 43,
   "metadata": {},
   "outputs": [
    {
     "data": {
      "text/html": [
       "<div>\n",
       "<style scoped>\n",
       "    .dataframe tbody tr th:only-of-type {\n",
       "        vertical-align: middle;\n",
       "    }\n",
       "\n",
       "    .dataframe tbody tr th {\n",
       "        vertical-align: top;\n",
       "    }\n",
       "\n",
       "    .dataframe thead th {\n",
       "        text-align: right;\n",
       "    }\n",
       "</style>\n",
       "<table border=\"1\" class=\"dataframe\">\n",
       "  <thead>\n",
       "    <tr style=\"text-align: right;\">\n",
       "      <th></th>\n",
       "      <th>outputs</th>\n",
       "    </tr>\n",
       "  </thead>\n",
       "  <tbody>\n",
       "    <tr>\n",
       "      <th>0</th>\n",
       "      <td>aY</td>\n",
       "    </tr>\n",
       "  </tbody>\n",
       "</table>\n",
       "</div>"
      ],
      "text/plain": [
       "  outputs\n",
       "0      aY"
      ]
     },
     "execution_count": 43,
     "metadata": {},
     "output_type": "execute_result"
    }
   ],
   "source": [
    "rules.loc[[0],[\"outputs\"]]\n"
   ]
  },
  {
   "cell_type": "code",
   "execution_count": 45,
   "metadata": {},
   "outputs": [
    {
     "data": {
      "text/plain": [
       "'aY'"
      ]
     },
     "execution_count": 45,
     "metadata": {},
     "output_type": "execute_result"
    }
   ],
   "source": [
    "rules[\"outputs\"][0]\n"
   ]
  },
  {
   "cell_type": "code",
   "execution_count": 124,
   "metadata": {},
   "outputs": [],
   "source": [
    "def generateStrFromRules(rules,Start,Nmax):\n",
    "    iteration=0\n",
    "    Chain=Start\n",
    "    for i in range(Nmax):\n",
    "        Chain=ChainPath(rules, Chain,iteration)\n",
    "        iteration+=1\n",
    "    return Chain"
   ]
  },
  {
   "cell_type": "code",
   "execution_count": 118,
   "metadata": {},
   "outputs": [
    {
     "name": "stdout",
     "output_type": "stream",
     "text": [
      "Please enter a new rule in the format X to Y or enter 0 to finish \tS to \n",
      "Please enter a new rule in the format X to Y or enter 0 to finish \tS to aSYZ\n",
      "Please enter a new rule in the format X to Y or enter 0 to finish \taY to ab\n",
      "Please enter a new rule in the format X to Y or enter 0 to finish \tbY to bb\n",
      "Please enter a new rule in the format X to Y or enter 0 to finish \tZ to c\n",
      "Please enter a new rule in the format X to Y or enter 0 to finish \tZY to YZ\n",
      "Please enter a new rule in the format X to Y or enter 0 to finish \t0\n"
     ]
    }
   ],
   "source": [
    "newrules=enterRules()"
   ]
  },
  {
   "cell_type": "code",
   "execution_count": 119,
   "metadata": {},
   "outputs": [
    {
     "data": {
      "text/html": [
       "<div>\n",
       "<style scoped>\n",
       "    .dataframe tbody tr th:only-of-type {\n",
       "        vertical-align: middle;\n",
       "    }\n",
       "\n",
       "    .dataframe tbody tr th {\n",
       "        vertical-align: top;\n",
       "    }\n",
       "\n",
       "    .dataframe thead th {\n",
       "        text-align: right;\n",
       "    }\n",
       "</style>\n",
       "<table border=\"1\" class=\"dataframe\">\n",
       "  <thead>\n",
       "    <tr style=\"text-align: right;\">\n",
       "      <th></th>\n",
       "      <th>inputs</th>\n",
       "      <th>outputs</th>\n",
       "    </tr>\n",
       "  </thead>\n",
       "  <tbody>\n",
       "    <tr>\n",
       "      <th>0</th>\n",
       "      <td>S</td>\n",
       "      <td></td>\n",
       "    </tr>\n",
       "    <tr>\n",
       "      <th>1</th>\n",
       "      <td>S</td>\n",
       "      <td>aSYZ</td>\n",
       "    </tr>\n",
       "    <tr>\n",
       "      <th>2</th>\n",
       "      <td>aY</td>\n",
       "      <td>ab</td>\n",
       "    </tr>\n",
       "    <tr>\n",
       "      <th>3</th>\n",
       "      <td>bY</td>\n",
       "      <td>bb</td>\n",
       "    </tr>\n",
       "    <tr>\n",
       "      <th>4</th>\n",
       "      <td>Z</td>\n",
       "      <td>c</td>\n",
       "    </tr>\n",
       "    <tr>\n",
       "      <th>5</th>\n",
       "      <td>ZY</td>\n",
       "      <td>YZ</td>\n",
       "    </tr>\n",
       "  </tbody>\n",
       "</table>\n",
       "</div>"
      ],
      "text/plain": [
       "  inputs outputs\n",
       "0      S        \n",
       "1      S    aSYZ\n",
       "2     aY      ab\n",
       "3     bY      bb\n",
       "4      Z       c\n",
       "5     ZY      YZ"
      ]
     },
     "execution_count": 119,
     "metadata": {},
     "output_type": "execute_result"
    }
   ],
   "source": [
    "newrules"
   ]
  },
  {
   "cell_type": "code",
   "execution_count": 157,
   "metadata": {
    "scrolled": true
   },
   "outputs": [
    {
     "name": "stdout",
     "output_type": "stream",
     "text": [
      "Regla escogida: ZY ---> YZ\n",
      "Para la cadena ingresada tenemos que cambio por: SYYZSYZSYYZSYSYZZY en la iteración 0\n",
      "Regla escogida: S ---> aSYZ\n",
      "Para la cadena ingresada tenemos que cambio por: aSYZYYZSYZSYYZSYSYZZY en la iteración 1\n",
      "Regla escogida: ZY ---> YZ\n",
      "Para la cadena ingresada tenemos que cambio por: aSYYZYZSYZSYYZSYSYZZY en la iteración 2\n",
      "Regla escogida: S ---> aSYZ\n",
      "Para la cadena ingresada tenemos que cambio por: aaSYZYYZYZSYZSYYZSYSYZZY en la iteración 3\n",
      "Regla escogida: S ---> \n",
      "Para la cadena ingresada tenemos que cambio por: aaYZYYZYZSYZSYYZSYSYZZY en la iteración 4\n",
      "Regla escogida: ZY ---> YZ\n",
      "Para la cadena ingresada tenemos que cambio por: aaYYZYZYZSYZSYYZSYSYZZY en la iteración 5\n",
      "Regla escogida: S ---> \n",
      "Para la cadena ingresada tenemos que cambio por: aaYYZYZYZYZSYYZSYSYZZY en la iteración 6\n",
      "Regla escogida: ZY ---> YZ\n",
      "Para la cadena ingresada tenemos que cambio por: aaYYYZZYZYZSYYZSYSYZZY en la iteración 7\n",
      "Regla escogida: S ---> aSYZ\n",
      "Para la cadena ingresada tenemos que cambio por: aaYYYZZYZYZaSYZYYZSYSYZZY en la iteración 8\n",
      "Regla escogida: aY ---> ab\n",
      "Para la cadena ingresada tenemos que cambio por: aabYYZZYZYZaSYZYYZSYSYZZY en la iteración 9\n",
      "Regla escogida: ZY ---> YZ\n",
      "Para la cadena ingresada tenemos que cambio por: aabYYZYZZYZaSYZYYZSYSYZZY en la iteración 10\n",
      "Regla escogida: Z ---> c\n",
      "Para la cadena ingresada tenemos que cambio por: aabYYcYZZYZaSYZYYZSYSYZZY en la iteración 11\n",
      "Regla escogida: ZY ---> YZ\n",
      "Para la cadena ingresada tenemos que cambio por: aabYYcYZYZZaSYZYYZSYSYZZY en la iteración 12\n",
      "Regla escogida: Z ---> c\n",
      "Para la cadena ingresada tenemos que cambio por: aabYYcYcYZZaSYZYYZSYSYZZY en la iteración 13\n",
      "Regla escogida: bY ---> bb\n",
      "Para la cadena ingresada tenemos que cambio por: aabbYcYcYZZaSYZYYZSYSYZZY en la iteración 14\n",
      "Regla escogida: S ---> aSYZ\n",
      "Para la cadena ingresada tenemos que cambio por: aabbYcYcYZZaaSYZYZYYZSYSYZZY en la iteración 15\n",
      "Regla escogida: Z ---> c\n",
      "Para la cadena ingresada tenemos que cambio por: aabbYcYcYcZaaSYZYZYYZSYSYZZY en la iteración 16\n",
      "Regla escogida: S ---> \n",
      "Para la cadena ingresada tenemos que cambio por: aabbYcYcYcZaaYZYZYYZSYSYZZY en la iteración 17\n",
      "Regla escogida: S ---> \n",
      "Para la cadena ingresada tenemos que cambio por: aabbYcYcYcZaaYZYZYYZYSYZZY en la iteración 18\n",
      "Regla escogida: aY ---> ab\n",
      "Para la cadena ingresada tenemos que cambio por: aabbYcYcYcZaabZYZYYZYSYZZY en la iteración 19\n",
      "Regla escogida: S ---> aSYZ\n",
      "Para la cadena ingresada tenemos que cambio por: aabbYcYcYcZaabZYZYYZYaSYZYZZY en la iteración 20\n",
      "Regla escogida: S ---> \n",
      "Para la cadena ingresada tenemos que cambio por: aabbYcYcYcZaabZYZYYZYaYZYZZY en la iteración 21\n",
      "Regla escogida: aY ---> ab\n",
      "Para la cadena ingresada tenemos que cambio por: aabbYcYcYcZaabZYZYYZYabZYZZY en la iteración 22\n",
      "Regla escogida: bY ---> bb\n",
      "Para la cadena ingresada tenemos que cambio por: aabbbcYcYcZaabZYZYYZYabZYZZY en la iteración 23\n",
      "Regla escogida: ZY ---> YZ\n",
      "Para la cadena ingresada tenemos que cambio por: aabbbcYcYcZaabYZZYYZYabZYZZY en la iteración 24\n",
      "Regla escogida: ZY ---> YZ\n",
      "Para la cadena ingresada tenemos que cambio por: aabbbcYcYcZaabYZYZYZYabZYZZY en la iteración 25\n",
      "Regla escogida: ZY ---> YZ\n",
      "Para la cadena ingresada tenemos que cambio por: aabbbcYcYcZaabYYZZYZYabZYZZY en la iteración 26\n",
      "Regla escogida: ZY ---> YZ\n",
      "Para la cadena ingresada tenemos que cambio por: aabbbcYcYcZaabYYZYZZYabZYZZY en la iteración 27\n",
      "Regla escogida: bY ---> bb\n",
      "Para la cadena ingresada tenemos que cambio por: aabbbcYcYcZaabbYZYZZYabZYZZY en la iteración 28\n",
      "Regla escogida: bY ---> bb\n",
      "Para la cadena ingresada tenemos que cambio por: aabbbcYcYcZaabbbZYZZYabZYZZY en la iteración 29\n",
      "Regla escogida: ZY ---> YZ\n",
      "Para la cadena ingresada tenemos que cambio por: aabbbcYcYcZaabbbYZZZYabZYZZY en la iteración 30\n",
      "Regla escogida: Z ---> c\n",
      "Para la cadena ingresada tenemos que cambio por: aabbbcYcYccaabbbYZZZYabZYZZY en la iteración 31\n",
      "Regla escogida: ZY ---> YZ\n",
      "Para la cadena ingresada tenemos que cambio por: aabbbcYcYccaabbbYZZYZabZYZZY en la iteración 32\n",
      "Regla escogida: Z ---> c\n",
      "Para la cadena ingresada tenemos que cambio por: aabbbcYcYccaabbbYcZYZabZYZZY en la iteración 33\n",
      "Regla escogida: ZY ---> YZ\n",
      "Para la cadena ingresada tenemos que cambio por: aabbbcYcYccaabbbYcYZZabZYZZY en la iteración 34\n",
      "Regla escogida: ZY ---> YZ\n",
      "Para la cadena ingresada tenemos que cambio por: aabbbcYcYccaabbbYcYZZabYZZZY en la iteración 35\n",
      "Regla escogida: ZY ---> YZ\n",
      "Para la cadena ingresada tenemos que cambio por: aabbbcYcYccaabbbYcYZZabYZZYZ en la iteración 36\n",
      "Regla escogida: bY ---> bb\n",
      "Para la cadena ingresada tenemos que cambio por: aabbbcYcYccaabbbbcYZZabYZZYZ en la iteración 37\n",
      "Regla escogida: bY ---> bb\n",
      "Para la cadena ingresada tenemos que cambio por: aabbbcYcYccaabbbbcYZZabbZZYZ en la iteración 38\n",
      "Regla escogida: Z ---> c\n",
      "Para la cadena ingresada tenemos que cambio por: aabbbcYcYccaabbbbcYcZabbZZYZ en la iteración 39\n",
      "Regla escogida: ZY ---> YZ\n",
      "Para la cadena ingresada tenemos que cambio por: aabbbcYcYccaabbbbcYcZabbZYZZ en la iteración 40\n",
      "Regla escogida: ZY ---> YZ\n",
      "Para la cadena ingresada tenemos que cambio por: aabbbcYcYccaabbbbcYcZabbYZZZ en la iteración 41\n",
      "Regla escogida: bY ---> bb\n",
      "Para la cadena ingresada tenemos que cambio por: aabbbcYcYccaabbbbcYcZabbbZZZ en la iteración 42\n",
      "Regla escogida: Z ---> c\n",
      "Para la cadena ingresada tenemos que cambio por: aabbbcYcYccaabbbbcYccabbbZZZ en la iteración 43\n",
      "Regla escogida: Z ---> c\n",
      "Para la cadena ingresada tenemos que cambio por: aabbbcYcYccaabbbbcYccabbbcZZ en la iteración 44\n",
      "Regla escogida: Z ---> c\n",
      "Para la cadena ingresada tenemos que cambio por: aabbbcYcYccaabbbbcYccabbbccZ en la iteración 45\n",
      "Regla escogida: Z ---> c\n",
      "Para la cadena ingresada tenemos que cambio por: aabbbcYcYccaabbbbcYccabbbccc en la iteración 46\n",
      "Para la cadena ingresada tenemos SE QUEDO IGUAL aabbbcYcYccaabbbbcYccabbbccc en la iteración 47\n",
      "Para la cadena ingresada tenemos SE QUEDO IGUAL aabbbcYcYccaabbbbcYccabbbccc en la iteración 48\n",
      "Para la cadena ingresada tenemos SE QUEDO IGUAL aabbbcYcYccaabbbbcYccabbbccc en la iteración 49\n"
     ]
    }
   ],
   "source": [
    "ATTEMPT=generateStrFromRules(newrules,\"SYYZSYZSYZYSYSYZZY\",50)\n"
   ]
  },
  {
   "cell_type": "code",
   "execution_count": null,
   "metadata": {},
   "outputs": [],
   "source": []
  },
  {
   "cell_type": "code",
   "execution_count": null,
   "metadata": {},
   "outputs": [],
   "source": []
  }
 ],
 "metadata": {
  "kernelspec": {
   "display_name": "Python 3",
   "language": "python",
   "name": "python3"
  },
  "language_info": {
   "codemirror_mode": {
    "name": "ipython",
    "version": 3
   },
   "file_extension": ".py",
   "mimetype": "text/x-python",
   "name": "python",
   "nbconvert_exporter": "python",
   "pygments_lexer": "ipython3",
   "version": "3.8.3"
  }
 },
 "nbformat": 4,
 "nbformat_minor": 4
}
