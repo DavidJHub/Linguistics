{
 "cells": [
  {
   "cell_type": "code",
   "execution_count": 115,
   "metadata": {},
   "outputs": [],
   "source": [
    "import numpy as np\n",
    "import matplotlib.pyplot as plt\n",
    "import pandas as pd\n",
    "import scipy\n",
    "import sys\n",
    "import random"
   ]
  },
  {
   "cell_type": "markdown",
   "metadata": {},
   "source": [
    "# Gramáticas\n",
    "\n",
    "En esta sección quiero revisar cómo un automata lee reglas, escoge una regla aleatoriamente QUE SE PUEDA APLICAR y modifica el string de acuerdo a las reglas ya definidas. Con ello podemos encontrar además patrones de convergencia de los automatas "
   ]
  },
  {
   "cell_type": "code",
   "execution_count": 4,
   "metadata": {},
   "outputs": [],
   "source": [
    "myrules={\"rawimputs\":[\"X to aY\",\"Y to ZZ\",\"Z to bXa\",\"X to c\",\"Xa to cb\",\"Z to a\"]}\n",
    "rules=pd.DataFrame(myrules)\n",
    "#def Rules(inputs,outputs):\n",
    "    "
   ]
  },
  {
   "cell_type": "code",
   "execution_count": 5,
   "metadata": {},
   "outputs": [],
   "source": [
    "rules[[\"inputs\",\"outputs\"]]=rules[\"rawimputs\"].str.split(\" to \", expand=True)"
   ]
  },
  {
   "cell_type": "code",
   "execution_count": 6,
   "metadata": {},
   "outputs": [
    {
     "data": {
      "text/html": [
       "<div>\n",
       "<style scoped>\n",
       "    .dataframe tbody tr th:only-of-type {\n",
       "        vertical-align: middle;\n",
       "    }\n",
       "\n",
       "    .dataframe tbody tr th {\n",
       "        vertical-align: top;\n",
       "    }\n",
       "\n",
       "    .dataframe thead th {\n",
       "        text-align: right;\n",
       "    }\n",
       "</style>\n",
       "<table border=\"1\" class=\"dataframe\">\n",
       "  <thead>\n",
       "    <tr style=\"text-align: right;\">\n",
       "      <th></th>\n",
       "      <th>rawimputs</th>\n",
       "      <th>inputs</th>\n",
       "      <th>outputs</th>\n",
       "    </tr>\n",
       "  </thead>\n",
       "  <tbody>\n",
       "    <tr>\n",
       "      <th>0</th>\n",
       "      <td>X to aY</td>\n",
       "      <td>X</td>\n",
       "      <td>aY</td>\n",
       "    </tr>\n",
       "    <tr>\n",
       "      <th>1</th>\n",
       "      <td>Y to ZZ</td>\n",
       "      <td>Y</td>\n",
       "      <td>ZZ</td>\n",
       "    </tr>\n",
       "    <tr>\n",
       "      <th>2</th>\n",
       "      <td>Z to bXa</td>\n",
       "      <td>Z</td>\n",
       "      <td>bXa</td>\n",
       "    </tr>\n",
       "    <tr>\n",
       "      <th>3</th>\n",
       "      <td>X to c</td>\n",
       "      <td>X</td>\n",
       "      <td>c</td>\n",
       "    </tr>\n",
       "    <tr>\n",
       "      <th>4</th>\n",
       "      <td>Xa to cb</td>\n",
       "      <td>Xa</td>\n",
       "      <td>cb</td>\n",
       "    </tr>\n",
       "    <tr>\n",
       "      <th>5</th>\n",
       "      <td>Z to a</td>\n",
       "      <td>Z</td>\n",
       "      <td>a</td>\n",
       "    </tr>\n",
       "  </tbody>\n",
       "</table>\n",
       "</div>"
      ],
      "text/plain": [
       "  rawimputs inputs outputs\n",
       "0   X to aY      X      aY\n",
       "1   Y to ZZ      Y      ZZ\n",
       "2  Z to bXa      Z     bXa\n",
       "3    X to c      X       c\n",
       "4  Xa to cb     Xa      cb\n",
       "5    Z to a      Z       a"
      ]
     },
     "execution_count": 6,
     "metadata": {},
     "output_type": "execute_result"
    }
   ],
   "source": [
    "rules"
   ]
  },
  {
   "cell_type": "code",
   "execution_count": 7,
   "metadata": {},
   "outputs": [],
   "source": [
    "def enterRules():\n",
    "    executing=True\n",
    "    listing=[]\n",
    "    while executing:\n",
    "        newrule=input(\"Please enter a new rule in the format X to Y or enter 0 to finish \\t\")\n",
    "        if newrule != \"0\":\n",
    "            if \" to \" in newrule:\n",
    "                listing.append(newrule)\n",
    "            else:\n",
    "                print(\"Bad format, try again :)\")\n",
    "        else:\n",
    "            executing=False\n",
    "    dictionary={\"rawinputs\":listing}\n",
    "    rules=pd.DataFrame(dictionary)\n",
    "    rules[[\"inputs\",\"outputs\"]]=rules[\"rawinputs\"].str.split(\" to \", expand=True)\n",
    "    rules.drop(columns=[\"rawinputs\"],inplace=True)\n",
    "    return rules"
   ]
  },
  {
   "cell_type": "code",
   "execution_count": 8,
   "metadata": {},
   "outputs": [],
   "source": [
    "def ChainPath(rules, w,ITER):\n",
    "    seed=w\n",
    "    rules[\"input is in\"]=rules[\"inputs\"].apply(lambda x: x in seed)\n",
    "    filtering=rules[rules[\"input is in\"]==True]\n",
    "    if len(filtering[\"inputs\"])>0:\n",
    "        choose=random.choice(filtering.index.to_numpy())\n",
    "        print(\"Regla escogida: \"+ rules[\"inputs\"][choose] + \" ---> \" + rules[\"outputs\"][choose])\n",
    "        seed=seed.replace(rules[\"inputs\"][choose],rules[\"outputs\"][choose],1)\n",
    "        print(\"Para la cadena ingresada tenemos que cambio por: \" + seed + \" \\n en la iteración \" + str(ITER))\n",
    "    else:\n",
    "        seed=seed\n",
    "        print(\"Para la cadena ingresada tenemos SE QUEDO IGUAL: \" + seed + \" en la iteración \" + str(ITER))\n",
    "    return seed\n",
    "    "
   ]
  },
  {
   "cell_type": "code",
   "execution_count": 9,
   "metadata": {},
   "outputs": [
    {
     "data": {
      "text/html": [
       "<div>\n",
       "<style scoped>\n",
       "    .dataframe tbody tr th:only-of-type {\n",
       "        vertical-align: middle;\n",
       "    }\n",
       "\n",
       "    .dataframe tbody tr th {\n",
       "        vertical-align: top;\n",
       "    }\n",
       "\n",
       "    .dataframe thead th {\n",
       "        text-align: right;\n",
       "    }\n",
       "</style>\n",
       "<table border=\"1\" class=\"dataframe\">\n",
       "  <thead>\n",
       "    <tr style=\"text-align: right;\">\n",
       "      <th></th>\n",
       "      <th>outputs</th>\n",
       "    </tr>\n",
       "  </thead>\n",
       "  <tbody>\n",
       "    <tr>\n",
       "      <th>0</th>\n",
       "      <td>aY</td>\n",
       "    </tr>\n",
       "  </tbody>\n",
       "</table>\n",
       "</div>"
      ],
      "text/plain": [
       "  outputs\n",
       "0      aY"
      ]
     },
     "execution_count": 9,
     "metadata": {},
     "output_type": "execute_result"
    }
   ],
   "source": [
    "rules.loc[[0],[\"outputs\"]]\n"
   ]
  },
  {
   "cell_type": "code",
   "execution_count": 10,
   "metadata": {},
   "outputs": [
    {
     "data": {
      "text/plain": [
       "'aY'"
      ]
     },
     "execution_count": 10,
     "metadata": {},
     "output_type": "execute_result"
    }
   ],
   "source": [
    "rules[\"outputs\"][0]\n"
   ]
  },
  {
   "cell_type": "code",
   "execution_count": 11,
   "metadata": {},
   "outputs": [],
   "source": [
    "def generateStrFromRules(rules,Start,Nmax):\n",
    "    iteration=0\n",
    "    Chain=Start\n",
    "    for i in range(Nmax):\n",
    "        Chain=ChainPath(rules, Chain,iteration)\n",
    "        iteration+=1\n",
    "    return Chain"
   ]
  },
  {
   "cell_type": "code",
   "execution_count": 12,
   "metadata": {},
   "outputs": [
    {
     "name": "stdout",
     "output_type": "stream",
     "text": [
      "Please enter a new rule in the format X to Y or enter 0 to finish \tS to RT\n",
      "Please enter a new rule in the format X to Y or enter 0 to finish \tR ro TR\n",
      "Bad format, try again :)\n",
      "Please enter a new rule in the format X to Y or enter 0 to finish \tR to TR\n",
      "Please enter a new rule in the format X to Y or enter 0 to finish \tR to a\n",
      "Please enter a new rule in the format X to Y or enter 0 to finish \tT to TR\n",
      "Please enter a new rule in the format X to Y or enter 0 to finish \tT to b\n",
      "Please enter a new rule in the format X to Y or enter 0 to finish \t0\n"
     ]
    }
   ],
   "source": [
    "newrules=enterRules()"
   ]
  },
  {
   "cell_type": "code",
   "execution_count": 13,
   "metadata": {},
   "outputs": [
    {
     "data": {
      "text/html": [
       "<div>\n",
       "<style scoped>\n",
       "    .dataframe tbody tr th:only-of-type {\n",
       "        vertical-align: middle;\n",
       "    }\n",
       "\n",
       "    .dataframe tbody tr th {\n",
       "        vertical-align: top;\n",
       "    }\n",
       "\n",
       "    .dataframe thead th {\n",
       "        text-align: right;\n",
       "    }\n",
       "</style>\n",
       "<table border=\"1\" class=\"dataframe\">\n",
       "  <thead>\n",
       "    <tr style=\"text-align: right;\">\n",
       "      <th></th>\n",
       "      <th>inputs</th>\n",
       "      <th>outputs</th>\n",
       "    </tr>\n",
       "  </thead>\n",
       "  <tbody>\n",
       "    <tr>\n",
       "      <th>0</th>\n",
       "      <td>S</td>\n",
       "      <td>RT</td>\n",
       "    </tr>\n",
       "    <tr>\n",
       "      <th>1</th>\n",
       "      <td>R</td>\n",
       "      <td>TR</td>\n",
       "    </tr>\n",
       "    <tr>\n",
       "      <th>2</th>\n",
       "      <td>R</td>\n",
       "      <td>a</td>\n",
       "    </tr>\n",
       "    <tr>\n",
       "      <th>3</th>\n",
       "      <td>T</td>\n",
       "      <td>TR</td>\n",
       "    </tr>\n",
       "    <tr>\n",
       "      <th>4</th>\n",
       "      <td>T</td>\n",
       "      <td>b</td>\n",
       "    </tr>\n",
       "  </tbody>\n",
       "</table>\n",
       "</div>"
      ],
      "text/plain": [
       "  inputs outputs\n",
       "0      S      RT\n",
       "1      R      TR\n",
       "2      R       a\n",
       "3      T      TR\n",
       "4      T       b"
      ]
     },
     "execution_count": 13,
     "metadata": {},
     "output_type": "execute_result"
    }
   ],
   "source": [
    "newrules"
   ]
  },
  {
   "cell_type": "code",
   "execution_count": 15,
   "metadata": {},
   "outputs": [],
   "source": [
    "def generate(rules,chain,assertterminals,size):\n",
    "    newarray=[]\n",
    "    for i in range(size):\n",
    "        element=generateStrFromRules(rules,chain,assertterminals)\n",
    "        newarray.append(element)\n",
    "    return np.asarray(newarray)"
   ]
  },
  {
   "cell_type": "code",
   "execution_count": 44,
   "metadata": {},
   "outputs": [
    {
     "name": "stdout",
     "output_type": "stream",
     "text": [
      "['y', 'x ', 'y + y ']\n"
     ]
    }
   ],
   "source": [
    "import collections\n",
    "\n",
    "print([item for item, count in collections.Counter(STRINGS4).items() if count > 1])"
   ]
  },
  {
   "cell_type": "markdown",
   "metadata": {},
   "source": [
    "# Punto 7.4 Sipser\n",
    "\n",
    "Usamos los métodos implementados en la parte superior para crear las reglas"
   ]
  },
  {
   "cell_type": "code",
   "execution_count": 18,
   "metadata": {},
   "outputs": [
    {
     "data": {
      "text/html": [
       "<div>\n",
       "<style scoped>\n",
       "    .dataframe tbody tr th:only-of-type {\n",
       "        vertical-align: middle;\n",
       "    }\n",
       "\n",
       "    .dataframe tbody tr th {\n",
       "        vertical-align: top;\n",
       "    }\n",
       "\n",
       "    .dataframe thead th {\n",
       "        text-align: right;\n",
       "    }\n",
       "</style>\n",
       "<table border=\"1\" class=\"dataframe\">\n",
       "  <thead>\n",
       "    <tr style=\"text-align: right;\">\n",
       "      <th></th>\n",
       "      <th>inputs</th>\n",
       "      <th>outputs</th>\n",
       "      <th>input is in</th>\n",
       "    </tr>\n",
       "  </thead>\n",
       "  <tbody>\n",
       "    <tr>\n",
       "      <th>0</th>\n",
       "      <td>S</td>\n",
       "      <td>RT</td>\n",
       "      <td>False</td>\n",
       "    </tr>\n",
       "    <tr>\n",
       "      <th>1</th>\n",
       "      <td>R</td>\n",
       "      <td>TR</td>\n",
       "      <td>True</td>\n",
       "    </tr>\n",
       "    <tr>\n",
       "      <th>2</th>\n",
       "      <td>R</td>\n",
       "      <td>a</td>\n",
       "      <td>True</td>\n",
       "    </tr>\n",
       "    <tr>\n",
       "      <th>3</th>\n",
       "      <td>T</td>\n",
       "      <td>TR</td>\n",
       "      <td>True</td>\n",
       "    </tr>\n",
       "    <tr>\n",
       "      <th>4</th>\n",
       "      <td>T</td>\n",
       "      <td>b</td>\n",
       "      <td>True</td>\n",
       "    </tr>\n",
       "  </tbody>\n",
       "</table>\n",
       "</div>"
      ],
      "text/plain": [
       "  inputs outputs  input is in\n",
       "0      S      RT        False\n",
       "1      R      TR         True\n",
       "2      R       a         True\n",
       "3      T      TR         True\n",
       "4      T       b         True"
      ]
     },
     "execution_count": 18,
     "metadata": {},
     "output_type": "execute_result"
    }
   ],
   "source": [
    "newrules"
   ]
  },
  {
   "cell_type": "code",
   "execution_count": 57,
   "metadata": {},
   "outputs": [],
   "source": [
    "def sipserproof(string,rules):\n",
    "    TAPE=str(string)\n",
    "    n=len(TAPE)\n",
    "    Table=np.empty((n,n),dtype=str)\n",
    "    for char in TAPE:\n",
    "        if char == \"\":\n",
    "            if(rules[rules[\"inputs\"].str.contains(\"S\")][0][\"outputs\"]==\"\"):\n",
    "                TAPE=TAPE+\"\"\n",
    "        for i in range(n):\n",
    "            for var in rules[\"inputs\"]:\n",
    "                TEMPORAL=rules[rules[\"inputs\"].str.contains(var)]\n",
    "                filt=TEMPORAL[TEMPORAL[\"outputs\"]==TAPE[i]]\n",
    "                #print(filt.empty)\n",
    "                if(not (filt.empty)):\n",
    "                    Table[i][i]=str(var)\n",
    "    for l in range(1,n):\n",
    "        for i in range(1,n-(l-1)):\n",
    "            j=i+l-1\n",
    "            for k in range(i,j):\n",
    "                for element in rules.iterrows():\n",
    "                    out=element[1][1]\n",
    "                    ins=element[1][0]\n",
    "                    #print(type(out))\n",
    "                    #print(i,j,k,l)\n",
    "                    if(str(out[0]) in str(Table[i][k]) and str(out[1]) in str(Table[k+1][j])):\n",
    "                        Table[i][j]=ins\n",
    "    return Table"
   ]
  },
  {
   "cell_type": "code",
   "execution_count": 58,
   "metadata": {
    "scrolled": true
   },
   "outputs": [
    {
     "data": {
      "text/plain": [
       "array([['T', '', '', ''],\n",
       "       ['', 'R', 'S', 'S'],\n",
       "       ['', '', 'T', 'T'],\n",
       "       ['', '', '', 'R']], dtype='<U1')"
      ]
     },
     "execution_count": 58,
     "metadata": {},
     "output_type": "execute_result"
    }
   ],
   "source": [
    "sipserproof(\"baba\",newrules)"
   ]
  },
  {
   "cell_type": "markdown",
   "metadata": {},
   "source": [
    "# Visualización del punto 1 y 2 de la tarea"
   ]
  },
  {
   "cell_type": "code",
   "execution_count": 116,
   "metadata": {},
   "outputs": [],
   "source": [
    "def determine_c(f,g):\n",
    "    threshold=1000\n",
    "    natural_range=np.linspace(1,1000,100,dtype=np.int64)\n",
    "    for i in range(threshold):\n",
    "        bol=False\n",
    "        save=0\n",
    "        for j in natural_range:\n",
    "            if i*g(j)>f(j):\n",
    "                bol=True\n",
    "                #print(j)\n",
    "            if(i*g(j)<f(j)):\n",
    "                bol=False\n",
    "        if bol==True:\n",
    "            plt.plot(natural_range,(i+60)*g(natural_range),label=str(g) )\n",
    "            plt.plot(natural_range,f(natural_range),label=str(f))\n",
    "            plt.legend()\n",
    "            return i\n",
    "    return -1\n"
   ]
  },
  {
   "cell_type": "code",
   "execution_count": 117,
   "metadata": {},
   "outputs": [],
   "source": [
    "def flexfunction1(x):\n",
    "    return x**2\n",
    "\n",
    "def flexfunction2(y):\n",
    "    return 13*y+factorial(y)\n",
    "\n",
    "def flexfunction3(x):\n",
    "    return 60*np.log(x)**3\n",
    "\n",
    "def flexfunction4(x):\n",
    "    return x"
   ]
  },
  {
   "cell_type": "code",
   "execution_count": 118,
   "metadata": {},
   "outputs": [
    {
     "data": {
      "text/plain": [
       "20"
      ]
     },
     "execution_count": 118,
     "metadata": {},
     "output_type": "execute_result"
    },
    {
     "data": {
      "image/png": "[encoded data removed]",
      "text/plain": [
       "<Figure size 432x288 with 1 Axes>"
      ]
     },
     "metadata": {
      "needs_background": "light"
     },
     "output_type": "display_data"
    }
   ],
   "source": [
    "determine_c(flexfunction3,flexfunction4)"
   ]
  },
  {
   "cell_type": "code",
   "execution_count": 119,
   "metadata": {},
   "outputs": [
    {
     "data": {
      "text/plain": [
       "[<matplotlib.lines.Line2D at 0x219826a1130>]"
      ]
     },
     "execution_count": 119,
     "metadata": {},
     "output_type": "execute_result"
    },
    {
     "data": {
      "image/png": "[encoded data removed]",
      "text/plain": [
       "<Figure size 432x288 with 1 Axes>"
      ]
     },
     "metadata": {
      "needs_background": "light"
     },
     "output_type": "display_data"
    }
   ],
   "source": [
    "rango=np.linspace(1,100,100,dtype=np.int64)\n",
    "plt.plot(rango,rango+np.cos(rango))\n",
    "plt.plot(rango,rango+np.sin(rango))"
   ]
  },
  {
   "cell_type": "code",
   "execution_count": null,
   "metadata": {},
   "outputs": [],
   "source": []
  }
 ],
 "metadata": {
  "kernelspec": {
   "display_name": "Python 3",
   "language": "python",
   "name": "python3"
  },
  "language_info": {
   "codemirror_mode": {
    "name": "ipython",
    "version": 3
   },
   "file_extension": ".py",
   "mimetype": "text/x-python",
   "name": "python",
   "nbconvert_exporter": "python",
   "pygments_lexer": "ipython3",
   "version": "3.8.3"
  }
 },
 "nbformat": 4,
 "nbformat_minor": 4
}
